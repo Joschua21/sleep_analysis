{
 "cells": [
  {
   "cell_type": "code",
   "execution_count": 21,
   "id": "e9f8ad4e",
   "metadata": {},
   "outputs": [
    {
     "name": "stdout",
     "output_type": "stream",
     "text": [
      "The autoreload extension is already loaded. To reload it, use:\n",
      "  %reload_ext autoreload\n",
      "Output directory: C:\\Users\\Experiment\\Projects\\video_conversions\\pipeline_testing\\sleep_pipeline_output\n",
      "Found CSV file: C:\\Users\\Experiment\\Projects\\video_conversions\\pipeline_testing\\fullDLC_resnet50_downsampled_trialJul11shuffle1_150000.csv\n",
      "Found video file: C:\\Users\\Experiment\\Projects\\video_conversions\\pipeline_testing\\fullDLC_resnet50_downsampled_trialJul11shuffle1_150000_labeled.mp4\n"
     ]
    }
   ],
   "source": [
    "import pandas as pd\n",
    "import numpy as np\n",
    "import os\n",
    "import matplotlib.pyplot as plt\n",
    "from sleep_analysis_pipeline import *\n",
    "from plotting_utils import *\n",
    "from debugging_functions import *\n",
    "%load_ext autoreload\n",
    "%autoreload 2\n",
    "\n",
    "input_dir = r'C:\\Users\\Experiment\\Projects\\video_conversions\\pipeline_testing'\n",
    "\n",
    "output_dir = setup_directories(input_dir)\n",
    "print(f'Output directory: {output_dir}')\n",
    "\n",
    "csv_file, video_file = find_files(input_dir)\n",
    "print(f\"Found CSV file: {csv_file}\")\n",
    "if video_file:\n",
    "    print(f\"Found video file: {video_file}\")\n",
    "else:\n",
    "    print(\"No video file found\")"
   ]
  },
  {
   "cell_type": "code",
   "execution_count": 2,
   "id": "9ea0974f",
   "metadata": {},
   "outputs": [
    {
     "name": "stdout",
     "output_type": "stream",
     "text": [
      "DLC data loaded: 144500 rows, 81 columns\n"
     ]
    }
   ],
   "source": [
    "\n",
    "# 3. Load DLC data\n",
    "df_dlc = load_dlc_data(csv_file)\n",
    "print(f\"DLC data loaded: {df_dlc.shape[0]} rows, {len(df_dlc.columns)} columns\")\n"
   ]
  },
  {
   "cell_type": "code",
   "execution_count": 3,
   "id": "04d1f874",
   "metadata": {},
   "outputs": [
    {
     "name": "stdout",
     "output_type": "stream",
     "text": [
      "Default bodyparts: ['neck', 'mid_back', 'mouse_center', 'mid_backend', 'left_midside', 'right_midside', 'right_hip', 'left_ear', 'right_ear', 'left_ear_tip', 'right_ear_tip', 'left_shoulder', 'right_shoulder', 'head_midpoint']\n"
     ]
    }
   ],
   "source": [
    "\n",
    "# 4. Get default bodyparts list\n",
    "default_bodyparts = get_default_bodyparts()\n",
    "print(f\"Default bodyparts: {default_bodyparts}\")"
   ]
  },
  {
   "cell_type": "code",
   "execution_count": 4,
   "id": "ff886920",
   "metadata": {},
   "outputs": [
    {
     "name": "stdout",
     "output_type": "stream",
     "text": [
      "Final bodyparts list for analysis: ['neck', 'mid_back', 'mouse_center', 'mid_backend', 'left_midside', 'right_midside', 'right_hip', 'left_ear', 'right_ear', 'left_ear_tip', 'right_ear_tip', 'left_shoulder', 'right_shoulder', 'head_midpoint']\n"
     ]
    }
   ],
   "source": [
    "\n",
    "# 5. Use select_available_bodyparts to find which bodyparts are available\n",
    "final_bodyparts_list = select_available_bodyparts(df_dlc)\n",
    "print(f\"Final bodyparts list for analysis: {final_bodyparts_list}\")\n"
   ]
  },
  {
   "cell_type": "code",
   "execution_count": 5,
   "id": "face077b",
   "metadata": {},
   "outputs": [
    {
     "name": "stdout",
     "output_type": "stream",
     "text": [
      "Applying likelihood filter and interpolation to selected bodyparts...\n",
      "Displacement calculations complete.\n",
      "Coordinate processing complete\n"
     ]
    }
   ],
   "source": [
    "\n",
    "# 6. Process coordinates\n",
    "df_dlc, filtered_x_coords, filtered_y_coords = process_bodypart_coordinates(df_dlc, final_bodyparts_list, likelihood_threshold)\n",
    "print(\"Coordinate processing complete\")\n"
   ]
  },
  {
   "cell_type": "code",
   "execution_count": 6,
   "id": "66e967cb",
   "metadata": {},
   "outputs": [
    {
     "name": "stdout",
     "output_type": "stream",
     "text": [
      "\n",
      "Speed calculation complete.\n",
      "DataFrame with speed data saved to: C:\\Users\\Experiment\\Projects\\video_conversions\\pipeline_testing\\sleep_pipeline_output\\fullDLC_resnet50_downsampled_trialJul11shuffle1_150000_speed_analysis.csv\n",
      "\n",
      "Generating speed plot... Individual parts: False, Smoothing: 0.25s\n",
      "  Applying rolling average with window size: 15 frames (0.25s)\n",
      "Speed plot saved to: C:\\Users\\Experiment\\Projects\\video_conversions\\pipeline_testing\\sleep_pipeline_output\\fullDLC_resnet50_downsampled_trialJul11shuffle1_150000_speed_analysis_speed_plot_smoothed0.25s.png\n",
      "Speed plots saved to: C:\\Users\\Experiment\\Projects\\video_conversions\\pipeline_testing\\sleep_pipeline_output\n",
      "Speed calculation complete\n"
     ]
    }
   ],
   "source": [
    "\n",
    "# 7. Calculate speed\n",
    "file_name = os.path.basename(csv_file)\n",
    "df_dlc = calculate_speed(df_dlc, frame_rate, output_dir, file_name, final_bodyparts_list, save_plots=True)\n",
    "print(\"Speed calculation complete\")\n"
   ]
  },
  {
   "cell_type": "code",
   "execution_count": 7,
   "id": "b49ecef0",
   "metadata": {},
   "outputs": [
    {
     "name": "stdout",
     "output_type": "stream",
     "text": [
      "\n",
      "Speed Summary Statistics:\n",
      "count    144499.000000\n",
      "mean         27.264688\n",
      "std          41.363934\n",
      "min           0.027890\n",
      "25%           5.840574\n",
      "50%          12.430614\n",
      "75%          32.637818\n",
      "max        1629.878479\n",
      "Name: (analysis, speed_pixels_per_second), dtype: float64\n"
     ]
    }
   ],
   "source": [
    "\n",
    "# 8. Display summary statistics for verification\n",
    "print(\"\\nSpeed Summary Statistics:\")\n",
    "print(df_dlc[('analysis', 'speed_pixels_per_second')].describe())\n"
   ]
  },
  {
   "cell_type": "code",
   "execution_count": 8,
   "id": "dba7f78b",
   "metadata": {},
   "outputs": [
    {
     "name": "stdout",
     "output_type": "stream",
     "text": [
      "Calculating body posture metric (average distance to median)...\n",
      "Body posture metric calculated.\n",
      "Body posture metric plot saved to: C:\\Users\\Experiment\\Projects\\video_conversions\\pipeline_testing\\sleep_pipeline_output\\fullDLC_resnet50_downsampled_trialJul11shuffle1_150000_posture_analysis_body_posture_metric.png\n",
      "Body posture metric plots saved to: C:\\Users\\Experiment\\Projects\\video_conversions\\pipeline_testing\\sleep_pipeline_output\n",
      "Body posture analysis complete\n"
     ]
    }
   ],
   "source": [
    "df_dlc = calculate_body_posture_metric(\n",
    "    df_dlc, filtered_x_coords, filtered_y_coords, \n",
    "    final_bodyparts_list, output_dir, file_name, \n",
    "    save_plots=True\n",
    ")\n",
    "print(\"Body posture analysis complete\")"
   ]
  },
  {
   "cell_type": "code",
   "execution_count": 9,
   "id": "4a97e203",
   "metadata": {},
   "outputs": [
    {
     "name": "stdout",
     "output_type": "stream",
     "text": [
      "Saved absolute body posture metric derivative plot: C:\\Users\\Experiment\\Projects\\video_conversions\\pipeline_testing\\sleep_pipeline_output\\fullDLC_resnet50_downsampled_trialJul11shuffle1_150000_posture_analysis_body_posture_metric_abs_derivative.png\n",
      "Body movement derivative calculation complete.\n",
      "Body movement derivative analysis complete\n"
     ]
    }
   ],
   "source": [
    "# 9. Calculate body movement derivative\n",
    "df_dlc = calculate_body_movement_derivative(df_dlc, frame_rate, output_dir, file_name, save_plots=True)\n",
    "print(\"Body movement derivative analysis complete\")"
   ]
  },
  {
   "cell_type": "code",
   "execution_count": 10,
   "id": "187588db",
   "metadata": {},
   "outputs": [
    {
     "name": "stdout",
     "output_type": "stream",
     "text": [
      "Body axis coordinate preparation complete.\n",
      "Body axis coordinate preparation complete\n"
     ]
    }
   ],
   "source": [
    "# 10. Prepare coordinates for body axis calculation\n",
    "bodypart_coordinate_sets = prepare_body_axis_coordinates(df_dlc, filtered_x_coords, filtered_y_coords, final_bodyparts_list)\n",
    "print(\"Body axis coordinate preparation complete\")\n"
   ]
  },
  {
   "cell_type": "code",
   "execution_count": 11,
   "id": "3a887d53",
   "metadata": {},
   "outputs": [
    {
     "name": "stdout",
     "output_type": "stream",
     "text": [
      "Body axis PCA calculation complete: successful in 144500/144500 frames (100.0%)\n",
      "NaN counts in PCA results:\n",
      "pca_dx                    0\n",
      "pca_dy                    0\n",
      "pca_mean_x                0\n",
      "pca_mean_y                0\n",
      "pca_explained_variance    0\n",
      "dtype: int64\n"
     ]
    }
   ],
   "source": [
    "df_dlc, df_midpoints_pca_raw = calculate_body_axis_pca(df_dlc, bodypart_coordinate_sets)"
   ]
  },
  {
   "cell_type": "code",
   "execution_count": 12,
   "id": "251f3556",
   "metadata": {},
   "outputs": [
    {
     "name": "stdout",
     "output_type": "stream",
     "text": [
      "Calculated angles for PCA (midpoints_pca).\n",
      "Saved polar angle plot: C:\\Users\\Experiment\\Projects\\video_conversions\\pipeline_testing\\sleep_pipeline_output\\fullDLC_resnet50_downsampled_trialJul11shuffle1_150000_orientation_analysis_body_axis_angle_polar.png\n",
      "\n",
      "--- Orientation Summary ---\n",
      "Anatomical orientation was attempted using 'neck' (front) and 'mid_backend' (back).\n",
      "Percentage of frames with anatomical orientation: 100.00%\n",
      "Body axis angle calculation and plotting complete.\n",
      "Body axis angle analysis complete\n"
     ]
    }
   ],
   "source": [
    "# 11. Calculate the body axis angles and create polar plot\n",
    "df_dlc = calculate_and_plot_body_axis_angles(\n",
    "    df_dlc, df_midpoints_pca_raw, filtered_x_coords, filtered_y_coords,\n",
    "    frame_rate, output_dir, file_name, save_plots=True\n",
    ")\n",
    "print(\"Body axis angle analysis complete\")"
   ]
  },
  {
   "cell_type": "code",
   "execution_count": 14,
   "id": "567e5655",
   "metadata": {},
   "outputs": [
    {
     "name": "stdout",
     "output_type": "stream",
     "text": [
      "\n",
      "Applying rolling window smoothing to body axis angles...\n",
      "Applied rolling window smoothing with window size: 15 frames to angular data.\n",
      "NaN count in raw angles: 0\n",
      "NaN count in smoothed angles: 0\n",
      "Saved smoothed polar angle plot: C:\\Users\\Experiment\\Projects\\video_conversions\\pipeline_testing\\sleep_pipeline_output\\fullDLC_resnet50_downsampled_trialJul11shuffle1_150000_orientation_analysis_body_axis_angle_smoothed_polar.png\n",
      "Smoothed body axis angle plotting complete.\n",
      "Smoothed body axis angle analysis complete\n"
     ]
    }
   ],
   "source": [
    "# 12. Calculate and plot smoothed body axis angles\n",
    "df_dlc = plot_smoothed_body_axis_angles(\n",
    "    df_dlc, df_midpoints_pca_raw, frame_rate, output_dir, file_name, save_plots=True\n",
    ")\n",
    "print(\"Smoothed body axis angle analysis complete\")"
   ]
  },
  {
   "cell_type": "code",
   "execution_count": 17,
   "id": "df0f51f6",
   "metadata": {},
   "outputs": [
    {
     "name": "stdout",
     "output_type": "stream",
     "text": [
      "\n",
      "Calculating and plotting derivative of smoothed body axis angle...\n",
      "Calculated angular velocity from smoothed angle (window=15 frames).\n",
      "Saved angular velocity plot: C:\\Users\\Experiment\\Projects\\video_conversions\\pipeline_testing\\sleep_pipeline_output\\fullDLC_resnet50_downsampled_trialJul11shuffle1_150000_orientation_analysis_angular_velocity.png\n",
      "Angular velocity calculation and plotting complete.\n",
      "Angular velocity analysis complete\n"
     ]
    }
   ],
   "source": [
    "# 13. Calculate angular velocity from smoothed body axis angles\n",
    "df_dlc = calculate_angular_velocity(\n",
    "    df_dlc, df_midpoints_pca_raw, frame_rate, output_dir, file_name, save_plots=True\n",
    ")\n",
    "print(\"Angular velocity analysis complete\")\n"
   ]
  },
  {
   "cell_type": "code",
   "execution_count": 19,
   "id": "0069ff30",
   "metadata": {},
   "outputs": [
    {
     "name": "stdout",
     "output_type": "stream",
     "text": [
      "\n",
      "Identifying and visualizing sleep bouts using multiple metrics...\n",
      "\n",
      "--- Identifying Sleep Bouts Based on Speed ---\n",
      "Identified 17 sleep bout(s) based on speed:\n",
      "   start_time_s  end_time_s  duration_s  avg_speed_in_bout\n",
      "0     27.633333   42.816667   15.183333          25.101659\n",
      "1    362.266667  376.633333   14.366667          33.007027\n",
      "2    535.716667  547.733333   12.016667          27.219687\n",
      "3    547.900000  563.166667   15.266667          25.339116\n",
      "4    682.716667  727.250000   44.533333          26.330362\n",
      "...and 12 more bouts\n",
      "\n",
      "--- Identifying Sleep Bouts Based on Body Posture Change ---\n",
      "Identified 32 sleep bout(s) based on posture change:\n",
      "   start_time_s  end_time_s  duration_s  avg_posture_change_in_bout\n",
      "0     27.683333   42.483333   14.800000                    7.516529\n",
      "1     42.883333   65.316667   22.433333                   11.858632\n",
      "2     65.333333   86.366667   21.033333                    8.885853\n",
      "3    107.366667  130.883333   23.516667                   11.120385\n",
      "4    144.166667  170.016667   25.850000                    9.384354\n",
      "...and 27 more bouts\n",
      "\n",
      "--- Identifying Sleep Bouts Based on Angular Velocity ---\n",
      "Identified 20 sleep bout(s) based on angular velocity:\n",
      "   start_time_s  end_time_s  duration_s  avg_angular_velocity_in_bout\n",
      "0     24.050000   34.183333   10.133333                     10.599492\n",
      "1     72.016667   86.100000   14.083333                      8.412414\n",
      "2    243.883333  254.033333   10.150000                      8.231495\n",
      "3    355.900000  376.566667   20.666667                      9.092812\n",
      "4    450.183333  460.816667   10.633333                     10.071389\n",
      "...and 15 more bouts\n",
      "Speed-based sleep bouts plot saved to: C:\\Users\\Experiment\\Projects\\video_conversions\\pipeline_testing\\sleep_pipeline_output\\fullDLC_resnet50_downsampled_trialJul11shuffle1_150000_sleep_analysis_speed_sleep_bouts.png\n",
      "Posture-based sleep bouts plot saved to: C:\\Users\\Experiment\\Projects\\video_conversions\\pipeline_testing\\sleep_pipeline_output\\fullDLC_resnet50_downsampled_trialJul11shuffle1_150000_sleep_analysis_posture_sleep_bouts.png\n",
      "Angular velocity-based sleep bouts plot saved to: C:\\Users\\Experiment\\Projects\\video_conversions\\pipeline_testing\\sleep_pipeline_output\\fullDLC_resnet50_downsampled_trialJul11shuffle1_150000_sleep_analysis_angular_velocity_sleep_bouts.png\n",
      "Comparative sleep bouts plot saved to: C:\\Users\\Experiment\\Projects\\video_conversions\\pipeline_testing\\sleep_pipeline_output\\fullDLC_resnet50_downsampled_trialJul11shuffle1_150000_sleep_analysis_all_sleep_methods_comparison.png\n",
      "Overlap between speed and posture: 82.92%\n",
      "  Total time with either: 1885.12 seconds\n",
      "  Time with both: 1563.08 seconds\n",
      "Overlap between speed and angular: 91.60%\n",
      "  Total time with either: 1702.15 seconds\n",
      "  Time with both: 1559.22 seconds\n",
      "Overlap between posture and angular: 85.14%\n",
      "  Total time with either: 1913.32 seconds\n",
      "  Time with both: 1629.08 seconds\n",
      "\n",
      "Overlap across ALL THREE methods: 80.44%\n",
      "  Total time with any method: 1914.95 seconds\n",
      "  Time with all three methods: 1540.35 seconds\n",
      "\n",
      "Sleep bout analysis complete.\n",
      "Sleep analysis complete\n"
     ]
    }
   ],
   "source": [
    "# 14. Identify sleep bouts across all metrics\n",
    "df_dlc, sleep_bouts_dict = identify_sleep_bouts_and_plot(\n",
    "    df_dlc, df_midpoints_pca_raw, frame_rate, output_dir, file_name, save_plots=True\n",
    ")\n",
    "print(\"Sleep analysis complete\")"
   ]
  },
  {
   "cell_type": "code",
   "execution_count": null,
   "id": "d8d74bef",
   "metadata": {},
   "outputs": [
    {
     "name": "stdout",
     "output_type": "stream",
     "text": [
      "\n",
      "Generating comprehensive sleep analysis video...\n",
      "Available sleep bout data:\n",
      "- Speed-based: Yes\n",
      "- Posture-based: Yes\n",
      "- Angular velocity-based: Yes\n",
      "Starting optimized comprehensive sleep analysis video creation: C:\\Users\\Experiment\\Projects\\video_conversions\\pipeline_testing\\sleep_pipeline_output\\fullDLC_resnet50_downsampled_trialJul11shuffle1_150000_sleep_analysis.mp4\n",
      "Original matplotlib backend: agg\n",
      "Temporarily switched matplotlib backend to: Agg\n",
      "PCA data provided for arrow visualization.\n",
      "Applied 15-frame smoothing to arrow visualization.\n",
      "Median coordinates provided for overlay.\n",
      "Added 17 speed-based sleep periods.\n",
      "Added 32 posture-based sleep periods.\n",
      "Added 20 angular velocity-based sleep periods.\n",
      "Pre-calculating sleep period overlaps...\n",
      "Pre-calculated 18 sleep overlap periods.\n"
     ]
    },
    {
     "name": "stderr",
     "output_type": "stream",
     "text": [
      "t:   0%|          | 117/144500 [00:34<5:53:23,  6.81it/s, now=None]"
     ]
    },
    {
     "name": "stdout",
     "output_type": "stream",
     "text": [
      "Writing final video to C:\\Users\\Experiment\\Projects\\video_conversions\\pipeline_testing\\sleep_pipeline_output\\fullDLC_resnet50_downsampled_trialJul11shuffle1_150000_sleep_analysis.mp4...\n",
      "Moviepy - Building video C:\\Users\\Experiment\\Projects\\video_conversions\\pipeline_testing\\sleep_pipeline_output\\fullDLC_resnet50_downsampled_trialJul11shuffle1_150000_sleep_analysis.mp4.\n",
      "Moviepy - Writing video C:\\Users\\Experiment\\Projects\\video_conversions\\pipeline_testing\\sleep_pipeline_output\\fullDLC_resnet50_downsampled_trialJul11shuffle1_150000_sleep_analysis.mp4\n",
      "\n"
     ]
    },
    {
     "name": "stderr",
     "output_type": "stream",
     "text": [
      "Exception ignored in: <function TransformNode.set_children.<locals>.<lambda> at 0x000001F369F9D510>\n",
      "Traceback (most recent call last):\n",
      "  File \"c:\\Users\\Experiment\\Miniconda3\\envs\\speed_analysis\\lib\\site-packages\\matplotlib\\transforms.py\", line 222, in <lambda>\n",
      "    self, lambda _, pop=child._parents.pop, k=id(self): pop(k))\n",
      "KeyboardInterrupt: \n"
     ]
    }
   ],
   "source": [
    "if video_file:\n",
    "    video_path = generate_sleep_analysis_video(\n",
    "        df_dlc=df_dlc,\n",
    "        df_midpoints_pca_raw=df_midpoints_pca_raw,\n",
    "        sleep_bouts_dict=sleep_bouts_dict,\n",
    "        smoothed_speed=df_dlc[('analysis', 'speed_smoothed')],\n",
    "        body_movement_derivative=df_dlc[('analysis', 'posture_metric_abs_derivative')],\n",
    "        angular_velocity=df_dlc[('analysis', 'absolute_angular_velocity')],\n",
    "        smoothed_angle=df_midpoints_pca_raw['angle_y_deg_midpoints_pca_smoothed'],\n",
    "        frame_rate=frame_rate,\n",
    "        video_file=video_file,\n",
    "        output_dir=output_dir,\n",
    "        file_name=file_name,\n",
    "        bodypart_coordinate_sets=bodypart_coordinate_sets,\n",
    "        thresholds={\n",
    "            'speed': 60,\n",
    "            'posture': 60,\n",
    "            'angular': 50\n",
    "        }\n",
    "    )\n",
    "    \n",
    "    if video_path:\n",
    "        print(\"Video generation complete.\")\n",
    "    else:\n",
    "        print(\"Video generation failed.\")\n",
    "else:\n",
    "    print(\"No video file found for analysis. Skipping video generation.\")"
   ]
  }
 ],
 "metadata": {
  "kernelspec": {
   "display_name": "speed_analysis",
   "language": "python",
   "name": "python3"
  },
  "language_info": {
   "codemirror_mode": {
    "name": "ipython",
    "version": 3
   },
   "file_extension": ".py",
   "mimetype": "text/x-python",
   "name": "python",
   "nbconvert_exporter": "python",
   "pygments_lexer": "ipython3",
   "version": "3.10.16"
  }
 },
 "nbformat": 4,
 "nbformat_minor": 5
}
