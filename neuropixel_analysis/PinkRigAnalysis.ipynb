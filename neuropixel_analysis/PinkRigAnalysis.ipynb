{
 "cells": [
  {
   "cell_type": "markdown",
   "id": "f5041afc",
   "metadata": {},
   "source": [
    "# General \n",
    "Two types of data stored for experiments\n",
    "\n",
    "    - Metadata (CSVs) summarizing each animal and experimental session\n",
    "    - Experimental session data \n",
    "When running analysis on PinkRigs data you need:\n",
    "\n",
    "    - Query metadata to ensure all data fitting requirements is included\n",
    "    - Load details (events, spikes, cameras) of selected dataset"
   ]
  },
  {
   "cell_type": "markdown",
   "id": "d611c666",
   "metadata": {},
   "source": [
    "# Querying experiments\n",
    "Query experiments using the query.queryCSV module, e.g.:"
   ]
  },
  {
   "cell_type": "code",
   "execution_count": 8,
   "id": "cad89652",
   "metadata": {},
   "outputs": [
    {
     "name": "stdout",
     "output_type": "stream",
     "text": [
      "      expDate expNum  ...                                    ephysPathProbe1 subject\n",
      "0  2023-07-27      2  ...  \\\\zaru.cortexlab.net\\Subjects\\AV049\\2023-07-27...   AV049\n",
      "\n",
      "[1 rows x 31 columns]\n"
     ]
    }
   ],
   "source": [
    "from pinkrigs_tools.dataset.query import queryCSV\n",
    "\n",
    "exp = queryCSV(\n",
    "    subject='AV049',\n",
    "    expDate='2023-07-27',\n",
    "    expNum='2',\n",
    ")\n",
    "\n",
    "print(exp)\n"
   ]
  },
  {
   "cell_type": "markdown",
   "id": "e9f185d4",
   "metadata": {},
   "source": [
    "# Loading the data\n",
    "\n",
    "Possible to direclty query and load the ONE folder content in one line using load_data\n",
    "To specify the ONE folder content to load, give nested dictionary to the data_name_dict argument of load_data\n",
    "Nesting follows ONE data structure {collection:{'object':'attribute'}}"
   ]
  },
  {
   "cell_type": "code",
   "execution_count": 10,
   "id": "1aab3c81",
   "metadata": {},
   "outputs": [
    {
     "name": "stdout",
     "output_type": "stream",
     "text": [
      "      expDate expNum  ... subject              events\n",
      "0  2023-07-27      1  ...   AV049  {'_av_trials': {}}\n",
      "1  2023-07-27      2  ...   AV049  {'_av_trials': {}}\n",
      "2  2023-07-27      4  ...   AV049  {'_av_trials': {}}\n",
      "\n",
      "[3 rows x 32 columns]\n"
     ]
    }
   ],
   "source": [
    "from pinkrigs_tools.dataset.query import load_data\n",
    "\n",
    "# define parameters of query:\n",
    "exp_kwargs = {\n",
    "    'subject':['AV049'],\n",
    "    'expDate':'2023-07-27',\n",
    "}\n",
    "\n",
    "# define the ONE data to load:\n",
    "data_name_dict = {'events':{'_av_trials':'table'}}\n",
    "recordings = load_data(data_name_dict=data_name_dict,**exp_kwargs)\n",
    "print(recordings)"
   ]
  },
  {
   "cell_type": "markdown",
   "id": "02b70316",
   "metadata": {},
   "source": [
    "# Spikes data\n"
   ]
  }
 ],
 "metadata": {
  "kernelspec": {
   "display_name": "PinkRigs_data_analysis_project",
   "language": "python",
   "name": "python3"
  },
  "language_info": {
   "codemirror_mode": {
    "name": "ipython",
    "version": 3
   },
   "file_extension": ".py",
   "mimetype": "text/x-python",
   "name": "python",
   "nbconvert_exporter": "python",
   "pygments_lexer": "ipython3",
   "version": "3.10.16"
  }
 },
 "nbformat": 4,
 "nbformat_minor": 5
}
