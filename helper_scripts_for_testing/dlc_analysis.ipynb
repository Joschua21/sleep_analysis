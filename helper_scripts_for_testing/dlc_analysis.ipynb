{
 "cells": [
  {
   "cell_type": "code",
   "execution_count": 4,
   "id": "844a926d",
   "metadata": {},
   "outputs": [
    {
     "name": "stdout",
     "output_type": "stream",
     "text": [
      "Loading DLC 2.3.9...\n",
      "DLC loaded in light mode; you cannot use any GUI (labeling, relabeling and standalone GUI)\n"
     ]
    },
    {
     "name": "stderr",
     "output_type": "stream",
     "text": [
      "c:\\Users\\Experiment\\Miniconda3\\envs\\DEEPLABCUT_TF_2\\lib\\site-packages\\tqdm\\auto.py:21: TqdmWarning: IProgress not found. Please update jupyter and ipywidgets. See https://ipywidgets.readthedocs.io/en/stable/user_install.html\n",
      "  from .autonotebook import tqdm as notebook_tqdm\n"
     ]
    },
    {
     "ename": "OSError",
     "evalue": "[WinError 127] The specified procedure could not be found. Error loading \"c:\\Users\\Experiment\\Miniconda3\\envs\\DEEPLABCUT_TF_2\\lib\\site-packages\\torch\\lib\\shm.dll\" or one of its dependencies.",
     "output_type": "error",
     "traceback": [
      "\u001b[1;31m---------------------------------------------------------------------------\u001b[0m",
      "\u001b[1;31mOSError\u001b[0m                                   Traceback (most recent call last)",
      "Cell \u001b[1;32mIn[4], line 2\u001b[0m\n\u001b[0;32m      1\u001b[0m \u001b[38;5;28;01mfrom\u001b[39;00m \u001b[38;5;21;01mpathlib\u001b[39;00m \u001b[38;5;28;01mimport\u001b[39;00m Path\n\u001b[1;32m----> 2\u001b[0m \u001b[38;5;28;01mimport\u001b[39;00m \u001b[38;5;21;01mdeeplabcut\u001b[39;00m\n\u001b[0;32m      3\u001b[0m \u001b[38;5;28;01mimport\u001b[39;00m \u001b[38;5;21;01mmatplotlib\u001b[39;00m\u001b[38;5;21;01m.\u001b[39;00m\u001b[38;5;21;01mpyplot\u001b[39;00m \u001b[38;5;28;01mas\u001b[39;00m \u001b[38;5;21;01mplt\u001b[39;00m\n",
      "File \u001b[1;32mc:\\Users\\Experiment\\Miniconda3\\envs\\DEEPLABCUT_TF_2\\lib\\site-packages\\deeplabcut\\__init__.py:76\u001b[0m\n\u001b[0;32m     63\u001b[0m \u001b[38;5;28;01mfrom\u001b[39;00m \u001b[38;5;21;01mdeeplabcut\u001b[39;00m\u001b[38;5;21;01m.\u001b[39;00m\u001b[38;5;21;01mutils\u001b[39;00m \u001b[38;5;28;01mimport\u001b[39;00m (\n\u001b[0;32m     64\u001b[0m     create_labeled_video,\n\u001b[0;32m     65\u001b[0m     create_video_with_all_detections,\n\u001b[1;32m   (...)\u001b[0m\n\u001b[0;32m     72\u001b[0m     auxfun_videos,\n\u001b[0;32m     73\u001b[0m )\n\u001b[0;32m     75\u001b[0m \u001b[38;5;28;01mtry\u001b[39;00m:\n\u001b[1;32m---> 76\u001b[0m     \u001b[38;5;28;01mfrom\u001b[39;00m \u001b[38;5;21;01mdeeplabcut\u001b[39;00m\u001b[38;5;21;01m.\u001b[39;00m\u001b[38;5;21;01mpose_tracking_pytorch\u001b[39;00m \u001b[38;5;28;01mimport\u001b[39;00m transformer_reID\n\u001b[0;32m     77\u001b[0m \u001b[38;5;28;01mexcept\u001b[39;00m \u001b[38;5;167;01mModuleNotFoundError\u001b[39;00m \u001b[38;5;28;01mas\u001b[39;00m e:\n\u001b[0;32m     78\u001b[0m     \u001b[38;5;28;01mimport\u001b[39;00m \u001b[38;5;21;01mwarnings\u001b[39;00m\n",
      "File \u001b[1;32mc:\\Users\\Experiment\\Miniconda3\\envs\\DEEPLABCUT_TF_2\\lib\\site-packages\\deeplabcut\\pose_tracking_pytorch\\__init__.py:14\u001b[0m\n\u001b[0;32m     12\u001b[0m \u001b[38;5;28;01mfrom\u001b[39;00m \u001b[38;5;21;01m.\u001b[39;00m\u001b[38;5;21;01mcreate_dataset\u001b[39;00m \u001b[38;5;28;01mimport\u001b[39;00m \u001b[38;5;241m*\u001b[39m\n\u001b[0;32m     13\u001b[0m \u001b[38;5;28;01mfrom\u001b[39;00m \u001b[38;5;21;01m.\u001b[39;00m\u001b[38;5;21;01mtracking_utils\u001b[39;00m\u001b[38;5;21;01m.\u001b[39;00m\u001b[38;5;21;01mpreprocessing\u001b[39;00m \u001b[38;5;28;01mimport\u001b[39;00m \u001b[38;5;241m*\u001b[39m\n\u001b[1;32m---> 14\u001b[0m \u001b[38;5;28;01mfrom\u001b[39;00m \u001b[38;5;21;01m.\u001b[39;00m\u001b[38;5;21;01mtrain_dlctransreid\u001b[39;00m \u001b[38;5;28;01mimport\u001b[39;00m train_tracking_transformer\n\u001b[0;32m     15\u001b[0m \u001b[38;5;28;01mfrom\u001b[39;00m \u001b[38;5;21;01m.\u001b[39;00m\u001b[38;5;21;01mapis\u001b[39;00m \u001b[38;5;28;01mimport\u001b[39;00m transformer_reID\n",
      "File \u001b[1;32mc:\\Users\\Experiment\\Miniconda3\\envs\\DEEPLABCUT_TF_2\\lib\\site-packages\\deeplabcut\\pose_tracking_pytorch\\train_dlctransreid.py:15\u001b[0m\n\u001b[0;32m     12\u001b[0m \u001b[38;5;28;01mimport\u001b[39;00m \u001b[38;5;21;01mrandom\u001b[39;00m\n\u001b[0;32m     14\u001b[0m \u001b[38;5;28;01mtry\u001b[39;00m:\n\u001b[1;32m---> 15\u001b[0m     \u001b[38;5;28;01mimport\u001b[39;00m \u001b[38;5;21;01mtorch\u001b[39;00m\n\u001b[0;32m     16\u001b[0m \u001b[38;5;28;01mexcept\u001b[39;00m \u001b[38;5;167;01mModuleNotFoundError\u001b[39;00m:\n\u001b[0;32m     17\u001b[0m     \u001b[38;5;28;01mraise\u001b[39;00m \u001b[38;5;167;01mModuleNotFoundError\u001b[39;00m(\n\u001b[0;32m     18\u001b[0m         \u001b[38;5;124m\"\u001b[39m\u001b[38;5;124mUnsupervised identity learning requires PyTorch. Please run `pip install torch`.\u001b[39m\u001b[38;5;124m\"\u001b[39m\n\u001b[0;32m     19\u001b[0m     )\n",
      "File \u001b[1;32mc:\\Users\\Experiment\\Miniconda3\\envs\\DEEPLABCUT_TF_2\\lib\\site-packages\\torch\\__init__.py:129\u001b[0m\n\u001b[0;32m    127\u001b[0m     err \u001b[38;5;241m=\u001b[39m ctypes\u001b[38;5;241m.\u001b[39mWinError(last_error)\n\u001b[0;32m    128\u001b[0m     err\u001b[38;5;241m.\u001b[39mstrerror \u001b[38;5;241m+\u001b[39m\u001b[38;5;241m=\u001b[39m \u001b[38;5;124mf\u001b[39m\u001b[38;5;124m'\u001b[39m\u001b[38;5;124m Error loading \u001b[39m\u001b[38;5;124m\"\u001b[39m\u001b[38;5;132;01m{\u001b[39;00mdll\u001b[38;5;132;01m}\u001b[39;00m\u001b[38;5;124m\"\u001b[39m\u001b[38;5;124m or one of its dependencies.\u001b[39m\u001b[38;5;124m'\u001b[39m\n\u001b[1;32m--> 129\u001b[0m     \u001b[38;5;28;01mraise\u001b[39;00m err\n\u001b[0;32m    130\u001b[0m \u001b[38;5;28;01melif\u001b[39;00m res \u001b[38;5;129;01mis\u001b[39;00m \u001b[38;5;129;01mnot\u001b[39;00m \u001b[38;5;28;01mNone\u001b[39;00m:\n\u001b[0;32m    131\u001b[0m     is_loaded \u001b[38;5;241m=\u001b[39m \u001b[38;5;28;01mTrue\u001b[39;00m\n",
      "\u001b[1;31mOSError\u001b[0m: [WinError 127] The specified procedure could not be found. Error loading \"c:\\Users\\Experiment\\Miniconda3\\envs\\DEEPLABCUT_TF_2\\lib\\site-packages\\torch\\lib\\shm.dll\" or one of its dependencies."
     ]
    }
   ],
   "source": [
    "from pathlib import Path\n",
    "import deeplabcut\n",
    "import matplotlib.pyplot as plt\n"
   ]
  },
  {
   "cell_type": "code",
   "execution_count": 5,
   "id": "f2e2d55d",
   "metadata": {},
   "outputs": [],
   "source": [
    "config_path = r\"C:\\Users\\Experiment\\Projects\\DLC_models\\model_maja\\config.yaml\"\n",
    "video_path = r\"C:\\Users\\Experiment\\Projects\\video_conversions\\2023-07-27_2_AV049_topCam_subset_start0_dur30.mp4\"\n"
   ]
  },
  {
   "cell_type": "code",
   "execution_count": 6,
   "id": "e35d2c39",
   "metadata": {},
   "outputs": [
    {
     "ename": "ValueError",
     "evalue": "There are 0 available GPUs: []\nPlease choose `gputouse` in [].",
     "output_type": "error",
     "traceback": [
      "\u001b[1;31m---------------------------------------------------------------------------\u001b[0m",
      "\u001b[1;31mValueError\u001b[0m                                Traceback (most recent call last)",
      "Cell \u001b[1;32mIn[6], line 1\u001b[0m\n\u001b[1;32m----> 1\u001b[0m \u001b[43mdeeplabcut\u001b[49m\u001b[38;5;241;43m.\u001b[39;49m\u001b[43manalyze_videos\u001b[49m\u001b[43m(\u001b[49m\n\u001b[0;32m      2\u001b[0m \u001b[43m    \u001b[49m\u001b[43mconfig_path\u001b[49m\u001b[43m,\u001b[49m\n\u001b[0;32m      3\u001b[0m \u001b[43m    \u001b[49m\u001b[43m[\u001b[49m\u001b[43mvideo_path\u001b[49m\u001b[43m]\u001b[49m\u001b[43m,\u001b[49m\n\u001b[0;32m      4\u001b[0m \u001b[43m    \u001b[49m\u001b[43mshuffle\u001b[49m\u001b[38;5;241;43m=\u001b[39;49m\u001b[38;5;241;43m1\u001b[39;49m\u001b[43m,\u001b[49m\n\u001b[0;32m      5\u001b[0m \u001b[43m    \u001b[49m\u001b[43mtrainingsetindex\u001b[49m\u001b[38;5;241;43m=\u001b[39;49m\u001b[38;5;241;43m0\u001b[39;49m\u001b[43m,\u001b[49m\n\u001b[0;32m      6\u001b[0m \u001b[43m    \u001b[49m\u001b[43mgputouse\u001b[49m\u001b[38;5;241;43m=\u001b[39;49m\u001b[38;5;241;43m0\u001b[39;49m\u001b[43m,\u001b[49m\u001b[43m \u001b[49m\n\u001b[0;32m      7\u001b[0m \u001b[43m    \u001b[49m\u001b[43msave_as_csv\u001b[49m\u001b[38;5;241;43m=\u001b[39;49m\u001b[38;5;28;43;01mTrue\u001b[39;49;00m\u001b[43m,\u001b[49m\n\u001b[0;32m      8\u001b[0m \u001b[43m    \u001b[49m\u001b[43mvideotype\u001b[49m\u001b[38;5;241;43m=\u001b[39;49m\u001b[38;5;124;43m\"\u001b[39;49m\u001b[38;5;124;43mmp4\u001b[39;49m\u001b[38;5;124;43m\"\u001b[39;49m\u001b[43m,\u001b[49m\n\u001b[0;32m      9\u001b[0m \u001b[43m    \u001b[49m\u001b[43mrobust_nframes\u001b[49m\u001b[38;5;241;43m=\u001b[39;49m\u001b[38;5;28;43;01mTrue\u001b[39;49;00m\n\u001b[0;32m     10\u001b[0m \u001b[43m)\u001b[49m\n",
      "File \u001b[1;32mc:\\Users\\Experiment\\Miniconda3\\envs\\DEEPLABCUT_2\\lib\\site-packages\\deeplabcut\\compat.py:914\u001b[0m, in \u001b[0;36manalyze_videos\u001b[1;34m(config, videos, videotype, shuffle, trainingsetindex, gputouse, save_as_csv, in_random_order, destfolder, batchsize, cropping, TFGPUinference, dynamic, modelprefix, robust_nframes, allow_growth, use_shelve, auto_track, n_tracks, animal_names, calibrate, identity_only, use_openvino, engine, **torch_kwargs)\u001b[0m\n\u001b[0;32m    911\u001b[0m     \u001b[38;5;28;01mif\u001b[39;00m use_openvino \u001b[38;5;129;01mis\u001b[39;00m \u001b[38;5;129;01mnot\u001b[39;00m \u001b[38;5;28;01mNone\u001b[39;00m:  \u001b[38;5;66;03m# otherwise default comes from tensorflow API\u001b[39;00m\n\u001b[0;32m    912\u001b[0m         kwargs[\u001b[38;5;124m\"\u001b[39m\u001b[38;5;124muse_openvino\u001b[39m\u001b[38;5;124m\"\u001b[39m] \u001b[38;5;241m=\u001b[39m use_openvino\n\u001b[1;32m--> 914\u001b[0m     \u001b[38;5;28;01mreturn\u001b[39;00m analyze_videos(\n\u001b[0;32m    915\u001b[0m         config,\n\u001b[0;32m    916\u001b[0m         videos,\n\u001b[0;32m    917\u001b[0m         videotype\u001b[38;5;241m=\u001b[39mvideotype,\n\u001b[0;32m    918\u001b[0m         shuffle\u001b[38;5;241m=\u001b[39mshuffle,\n\u001b[0;32m    919\u001b[0m         trainingsetindex\u001b[38;5;241m=\u001b[39mtrainingsetindex,\n\u001b[0;32m    920\u001b[0m         gputouse\u001b[38;5;241m=\u001b[39mgputouse,\n\u001b[0;32m    921\u001b[0m         save_as_csv\u001b[38;5;241m=\u001b[39msave_as_csv,\n\u001b[0;32m    922\u001b[0m         in_random_order\u001b[38;5;241m=\u001b[39min_random_order,\n\u001b[0;32m    923\u001b[0m         destfolder\u001b[38;5;241m=\u001b[39mdestfolder,\n\u001b[0;32m    924\u001b[0m         batchsize\u001b[38;5;241m=\u001b[39mbatchsize,\n\u001b[0;32m    925\u001b[0m         cropping\u001b[38;5;241m=\u001b[39mcropping,\n\u001b[0;32m    926\u001b[0m         TFGPUinference\u001b[38;5;241m=\u001b[39mTFGPUinference,\n\u001b[0;32m    927\u001b[0m         dynamic\u001b[38;5;241m=\u001b[39mdynamic,\n\u001b[0;32m    928\u001b[0m         modelprefix\u001b[38;5;241m=\u001b[39mmodelprefix,\n\u001b[0;32m    929\u001b[0m         robust_nframes\u001b[38;5;241m=\u001b[39mrobust_nframes,\n\u001b[0;32m    930\u001b[0m         allow_growth\u001b[38;5;241m=\u001b[39mallow_growth,\n\u001b[0;32m    931\u001b[0m         use_shelve\u001b[38;5;241m=\u001b[39muse_shelve,\n\u001b[0;32m    932\u001b[0m         auto_track\u001b[38;5;241m=\u001b[39mauto_track,\n\u001b[0;32m    933\u001b[0m         n_tracks\u001b[38;5;241m=\u001b[39mn_tracks,\n\u001b[0;32m    934\u001b[0m         animal_names\u001b[38;5;241m=\u001b[39manimal_names,\n\u001b[0;32m    935\u001b[0m         calibrate\u001b[38;5;241m=\u001b[39mcalibrate,\n\u001b[0;32m    936\u001b[0m         identity_only\u001b[38;5;241m=\u001b[39midentity_only,\n\u001b[0;32m    937\u001b[0m         \u001b[38;5;241m*\u001b[39m\u001b[38;5;241m*\u001b[39mkwargs,\n\u001b[0;32m    938\u001b[0m     )\n\u001b[0;32m    939\u001b[0m \u001b[38;5;28;01melif\u001b[39;00m engine \u001b[38;5;241m==\u001b[39m Engine\u001b[38;5;241m.\u001b[39mPYTORCH:\n\u001b[0;32m    940\u001b[0m     \u001b[38;5;28;01mfrom\u001b[39;00m\u001b[38;5;250m \u001b[39m\u001b[38;5;21;01mdeeplabcut\u001b[39;00m\u001b[38;5;21;01m.\u001b[39;00m\u001b[38;5;21;01mpose_estimation_pytorch\u001b[39;00m\u001b[38;5;21;01m.\u001b[39;00m\u001b[38;5;21;01mapis\u001b[39;00m\u001b[38;5;250m \u001b[39m\u001b[38;5;28;01mimport\u001b[39;00m analyze_videos\n",
      "File \u001b[1;32mc:\\Users\\Experiment\\Miniconda3\\envs\\DEEPLABCUT_2\\lib\\site-packages\\deeplabcut\\pose_estimation_tensorflow\\predict_videos.py:478\u001b[0m, in \u001b[0;36manalyze_videos\u001b[1;34m(config, videos, videotype, shuffle, trainingsetindex, gputouse, save_as_csv, in_random_order, destfolder, batchsize, cropping, TFGPUinference, dynamic, modelprefix, robust_nframes, allow_growth, use_shelve, auto_track, n_tracks, animal_names, calibrate, identity_only, use_openvino)\u001b[0m\n\u001b[0;32m    475\u001b[0m     \u001b[38;5;28;01mdel\u001b[39;00m os\u001b[38;5;241m.\u001b[39menviron[\u001b[38;5;124m\"\u001b[39m\u001b[38;5;124mTF_CUDNN_USE_AUTOTUNE\u001b[39m\u001b[38;5;124m\"\u001b[39m]  \u001b[38;5;66;03m# was potentially set during training\u001b[39;00m\n\u001b[0;32m    477\u001b[0m \u001b[38;5;28;01mif\u001b[39;00m gputouse \u001b[38;5;129;01mis\u001b[39;00m \u001b[38;5;129;01mnot\u001b[39;00m \u001b[38;5;28;01mNone\u001b[39;00m:  \u001b[38;5;66;03m# gpu selection\u001b[39;00m\n\u001b[1;32m--> 478\u001b[0m     \u001b[43mauxfun_models\u001b[49m\u001b[38;5;241;43m.\u001b[39;49m\u001b[43mset_visible_devices\u001b[49m\u001b[43m(\u001b[49m\u001b[43mgputouse\u001b[49m\u001b[43m)\u001b[49m\n\u001b[0;32m    480\u001b[0m tf\u001b[38;5;241m.\u001b[39mcompat\u001b[38;5;241m.\u001b[39mv1\u001b[38;5;241m.\u001b[39mreset_default_graph()\n\u001b[0;32m    481\u001b[0m start_path \u001b[38;5;241m=\u001b[39m os\u001b[38;5;241m.\u001b[39mgetcwd()  \u001b[38;5;66;03m# record cwd to return to this directory in the end\u001b[39;00m\n",
      "File \u001b[1;32mc:\\Users\\Experiment\\Miniconda3\\envs\\DEEPLABCUT_2\\lib\\site-packages\\deeplabcut\\utils\\auxfun_models.py:165\u001b[0m, in \u001b[0;36mset_visible_devices\u001b[1;34m(gputouse)\u001b[0m\n\u001b[0;32m    163\u001b[0m n_devices \u001b[38;5;241m=\u001b[39m \u001b[38;5;28mlen\u001b[39m(physical_devices)\n\u001b[0;32m    164\u001b[0m \u001b[38;5;28;01mif\u001b[39;00m gputouse \u001b[38;5;241m>\u001b[39m\u001b[38;5;241m=\u001b[39m n_devices:\n\u001b[1;32m--> 165\u001b[0m     \u001b[38;5;28;01mraise\u001b[39;00m \u001b[38;5;167;01mValueError\u001b[39;00m(\n\u001b[0;32m    166\u001b[0m         \u001b[38;5;124mf\u001b[39m\u001b[38;5;124m\"\u001b[39m\u001b[38;5;124mThere are \u001b[39m\u001b[38;5;132;01m{\u001b[39;00mn_devices\u001b[38;5;132;01m}\u001b[39;00m\u001b[38;5;124m available GPUs: \u001b[39m\u001b[38;5;132;01m{\u001b[39;00mphysical_devices\u001b[38;5;132;01m}\u001b[39;00m\u001b[38;5;130;01m\\n\u001b[39;00m\u001b[38;5;124mPlease choose `gputouse` in \u001b[39m\u001b[38;5;132;01m{\u001b[39;00m\u001b[38;5;28mlist\u001b[39m(\u001b[38;5;28mrange\u001b[39m(n_devices))\u001b[38;5;132;01m}\u001b[39;00m\u001b[38;5;124m.\u001b[39m\u001b[38;5;124m\"\u001b[39m\n\u001b[0;32m    167\u001b[0m     )\n\u001b[0;32m    168\u001b[0m tf\u001b[38;5;241m.\u001b[39mconfig\u001b[38;5;241m.\u001b[39mset_visible_devices(physical_devices[gputouse], \u001b[38;5;124m\"\u001b[39m\u001b[38;5;124mGPU\u001b[39m\u001b[38;5;124m\"\u001b[39m)\n",
      "\u001b[1;31mValueError\u001b[0m: There are 0 available GPUs: []\nPlease choose `gputouse` in []."
     ]
    }
   ],
   "source": [
    "deeplabcut.analyze_videos(\n",
    "    config_path,\n",
    "    [video_path],\n",
    "    shuffle=1,\n",
    "    trainingsetindex=0,\n",
    "    gputouse=0, \n",
    "    save_as_csv=True,\n",
    "    videotype=\"mp4\",\n",
    "    robust_nframes=True\n",
    ")"
   ]
  },
  {
   "cell_type": "code",
   "execution_count": null,
   "id": "0a33b913",
   "metadata": {},
   "outputs": [],
   "source": [
    "deeplabcut.create_labeled_video(\n",
    "    config_path,\n",
    "    [video_path],\n",
    "    draw_skeleton=True\n",
    ")"
   ]
  },
  {
   "cell_type": "code",
   "execution_count": null,
   "id": "7b17895c",
   "metadata": {},
   "outputs": [],
   "source": [
    "deeplabcut.plot_trajectories(\n",
    "    config_path,\n",
    "    [video_path],\n",
    "    showfigures=True\n",
    ")"
   ]
  },
  {
   "cell_type": "markdown",
   "id": "af8d1da2",
   "metadata": {},
   "source": [
    "Troubleshooting:"
   ]
  },
  {
   "cell_type": "code",
   "execution_count": 1,
   "id": "77c65e1c",
   "metadata": {},
   "outputs": [
    {
     "name": "stdout",
     "output_type": "stream",
     "text": [
      "TF version: 2.10.0\n",
      "GPU available: [PhysicalDevice(name='/physical_device:GPU:0', device_type='GPU')]\n"
     ]
    }
   ],
   "source": [
    "import tensorflow as tf\n",
    "print(\"TF version:\", tf.__version__)\n",
    "print(\"GPU available:\", tf.config.list_physical_devices('GPU'))"
   ]
  },
  {
   "cell_type": "code",
   "execution_count": 2,
   "id": "31e15d23",
   "metadata": {},
   "outputs": [
    {
     "ename": "OSError",
     "evalue": "[WinError 127] The specified procedure could not be found. Error loading \"c:\\Users\\Experiment\\Miniconda3\\envs\\DEEPLABCUT_TF_2\\lib\\site-packages\\torch\\lib\\shm.dll\" or one of its dependencies.",
     "output_type": "error",
     "traceback": [
      "\u001b[1;31m---------------------------------------------------------------------------\u001b[0m",
      "\u001b[1;31mOSError\u001b[0m                                   Traceback (most recent call last)",
      "Cell \u001b[1;32mIn[2], line 1\u001b[0m\n\u001b[1;32m----> 1\u001b[0m \u001b[38;5;28;01mimport\u001b[39;00m \u001b[38;5;21;01mtorch\u001b[39;00m\n\u001b[0;32m      3\u001b[0m \u001b[38;5;66;03m# Check if GPU is available\u001b[39;00m\n\u001b[0;32m      4\u001b[0m \u001b[38;5;28;01mif\u001b[39;00m torch\u001b[38;5;241m.\u001b[39mcuda\u001b[38;5;241m.\u001b[39mis_available():\n",
      "File \u001b[1;32mc:\\Users\\Experiment\\Miniconda3\\envs\\DEEPLABCUT_TF_2\\lib\\site-packages\\torch\\__init__.py:129\u001b[0m\n\u001b[0;32m    127\u001b[0m     err \u001b[38;5;241m=\u001b[39m ctypes\u001b[38;5;241m.\u001b[39mWinError(last_error)\n\u001b[0;32m    128\u001b[0m     err\u001b[38;5;241m.\u001b[39mstrerror \u001b[38;5;241m+\u001b[39m\u001b[38;5;241m=\u001b[39m \u001b[38;5;124mf\u001b[39m\u001b[38;5;124m'\u001b[39m\u001b[38;5;124m Error loading \u001b[39m\u001b[38;5;124m\"\u001b[39m\u001b[38;5;132;01m{\u001b[39;00mdll\u001b[38;5;132;01m}\u001b[39;00m\u001b[38;5;124m\"\u001b[39m\u001b[38;5;124m or one of its dependencies.\u001b[39m\u001b[38;5;124m'\u001b[39m\n\u001b[1;32m--> 129\u001b[0m     \u001b[38;5;28;01mraise\u001b[39;00m err\n\u001b[0;32m    130\u001b[0m \u001b[38;5;28;01melif\u001b[39;00m res \u001b[38;5;129;01mis\u001b[39;00m \u001b[38;5;129;01mnot\u001b[39;00m \u001b[38;5;28;01mNone\u001b[39;00m:\n\u001b[0;32m    131\u001b[0m     is_loaded \u001b[38;5;241m=\u001b[39m \u001b[38;5;28;01mTrue\u001b[39;00m\n",
      "\u001b[1;31mOSError\u001b[0m: [WinError 127] The specified procedure could not be found. Error loading \"c:\\Users\\Experiment\\Miniconda3\\envs\\DEEPLABCUT_TF_2\\lib\\site-packages\\torch\\lib\\shm.dll\" or one of its dependencies."
     ]
    }
   ],
   "source": [
    "import torch\n",
    "\n",
    "# Check if GPU is available\n",
    "if torch.cuda.is_available():\n",
    "    device = torch.device(\"cuda\")\n",
    "\n",
    "    # Allocate a tensor on the GPU\n",
    "    x = torch.randn(10000, 10000, device=device)\n",
    "\n",
    "    # Do a basic operation\n",
    "    y = x * 2\n",
    "\n",
    "    # Check memory usage\n",
    "    print(f\"Memory allocated: {torch.cuda.memory_allocated()/1024**2:.2f} MB\")\n",
    "    print(f\"Memory reserved: {torch.cuda.memory_reserved()/1024**2:.2f} MB\")\n",
    "\n",
    "    # Optional: clear memory after\n",
    "    del x, y\n",
    "    torch.cuda.empty_cache()\n",
    "else:\n",
    "    print(\"CUDA not available\")"
   ]
  },
  {
   "cell_type": "code",
   "execution_count": 3,
   "id": "fac3ebdc",
   "metadata": {},
   "outputs": [
    {
     "name": "stdout",
     "output_type": "stream",
     "text": [
      "TensorFlow built with CUDA: True\n",
      "TensorFlow built with GPU support: True\n"
     ]
    }
   ],
   "source": [
    "import tensorflow as tf\n",
    "print(\"TensorFlow built with CUDA:\", tf.test.is_built_with_cuda())\n",
    "print(\"TensorFlow built with GPU support:\", tf.test.is_built_with_gpu_support())"
   ]
  }
 ],
 "metadata": {
  "kernelspec": {
   "display_name": "DEEPLABCUT_TF_2",
   "language": "python",
   "name": "python3"
  },
  "language_info": {
   "codemirror_mode": {
    "name": "ipython",
    "version": 3
   },
   "file_extension": ".py",
   "mimetype": "text/x-python",
   "name": "python",
   "nbconvert_exporter": "python",
   "pygments_lexer": "ipython3",
   "version": "3.8.20"
  }
 },
 "nbformat": 4,
 "nbformat_minor": 5
}
