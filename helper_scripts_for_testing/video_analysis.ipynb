{
 "cells": [
  {
   "cell_type": "markdown",
   "id": "1aa2538c",
   "metadata": {},
   "source": []
  },
  {
   "cell_type": "code",
   "execution_count": null,
   "id": "63b100d5",
   "metadata": {},
   "outputs": [],
   "source": [
    "\n",
    "from pathlib import Path\n",
    "import deeplabcut\n",
    "%matplotlib inline\n",
    "import matplotlib.pyplot as plt \n"
   ]
  },
  {
   "cell_type": "code",
   "execution_count": null,
   "id": "565ef9d1",
   "metadata": {},
   "outputs": [],
   "source": [
    "path_config_file = \"C:/DeepLabCut/examples/Reaching-Mackenzie-2018-08-30/config.yaml\"\n",
    "print(path_config_file)"
   ]
  },
  {
   "cell_type": "code",
   "execution_count": null,
   "id": "139c9217",
   "metadata": {},
   "outputs": [],
   "source": [
    "deeplabcut.load_demo_data(path_config_file)"
   ]
  },
  {
   "cell_type": "code",
   "execution_count": null,
   "id": "dc4368ac",
   "metadata": {},
   "outputs": [],
   "source": [
    "deeplabcut.check_labels(path_config_file)"
   ]
  },
  {
   "cell_type": "code",
   "execution_count": null,
   "id": "ec6db4c7",
   "metadata": {},
   "outputs": [],
   "source": [
    "deeplabcut.train_network(path_config_file, shuffle=1, save_epochs=2, displayiters=10)"
   ]
  },
  {
   "cell_type": "code",
   "execution_count": null,
   "id": "6248f6ab",
   "metadata": {},
   "outputs": [],
   "source": [
    "deeplabcut.evaluate_network(path_config_file, plotting=True)\n",
    "plt.show()"
   ]
  },
  {
   "cell_type": "code",
   "execution_count": null,
   "id": "4f6031ef",
   "metadata": {},
   "outputs": [],
   "source": [
    "videofile_path = str(Path(path_config_file).parent / \"videos\" / \"reachingvideo1.avi\")"
   ]
  },
  {
   "cell_type": "code",
   "execution_count": null,
   "id": "1233759c",
   "metadata": {},
   "outputs": [],
   "source": [
    "print(\"Start Analyzing the video!\")\n",
    "\n",
    "deeplabcut.analyze_videos(\n",
    "    path_config_file,\n",
    "    [videofile_path],\n",
    "    gputouse=0,  # explicitly tell it to use GPU 0\n",
    "    save_as_csv=True,\n",
    "    destfolder=None,\n",
    "    videotype='mp4',\n",
    "    robust_nframes=True\n",
    ")"
   ]
  },
  {
   "cell_type": "code",
   "execution_count": null,
   "id": "ac888aab",
   "metadata": {},
   "outputs": [],
   "source": [
    "deeplabcut.create_labeled_video(path_config_file, [videofile_path], draw_skeleton=True)"
   ]
  },
  {
   "cell_type": "code",
   "execution_count": null,
   "id": "4de01325",
   "metadata": {},
   "outputs": [],
   "source": [
    "%matplotlib notebook\n",
    "deeplabcut.plot_trajectories(path_config_file, [videofile_path], showfigures=True)"
   ]
  },
  {
   "cell_type": "code",
   "execution_count": 1,
   "id": "6491886f",
   "metadata": {},
   "outputs": [
    {
     "name": "stderr",
     "output_type": "stream",
     "text": [
      "c:\\Users\\Experiment\\Miniconda3\\envs\\DEEPLABCUT_TF_2\\lib\\site-packages\\tqdm\\auto.py:21: TqdmWarning: IProgress not found. Please update jupyter and ipywidgets. See https://ipywidgets.readthedocs.io/en/stable/user_install.html\n",
      "  from .autonotebook import tqdm as notebook_tqdm\n"
     ]
    },
    {
     "name": "stdout",
     "output_type": "stream",
     "text": [
      "PyTorch version: 1.12.1+cu113\n",
      "CUDA available: True\n",
      "Current device: 0\n",
      "Device name: NVIDIA GeForce GTX 1060 3GB\n",
      "Device count: 1\n",
      "GPU memory allocated: 0.00 MB\n",
      "GPU memory cached: 0.00 MB\n"
     ]
    }
   ],
   "source": [
    "import torch\n",
    "print(f\"PyTorch version: {torch.__version__}\")\n",
    "\n",
    "# Check if GPU is available\n",
    "print(f\"CUDA available: {torch.cuda.is_available()}\")\n",
    "\n",
    "# Check which device is being used\n",
    "if torch.cuda.is_available():\n",
    "    print(f\"Current device: {torch.cuda.current_device()}\")\n",
    "    print(f\"Device name: {torch.cuda.get_device_name(torch.cuda.current_device())}\")\n",
    "    print(f\"Device count: {torch.cuda.device_count()}\")\n",
    "    \n",
    "    # Check GPU memory usage\n",
    "    print(f\"GPU memory allocated: {torch.cuda.memory_allocated()/1024**2:.2f} MB\")\n",
    "    print(f\"GPU memory cached: {torch.cuda.memory_reserved()/1024**2:.2f} MB\")\n",
    "else:\n",
    "    print(\"Running on CPU\")\n"
   ]
  },
  {
   "cell_type": "code",
   "execution_count": 2,
   "id": "814ec403",
   "metadata": {},
   "outputs": [
    {
     "name": "stdout",
     "output_type": "stream",
     "text": [
      "Memory allocated: 764.00 MB\n",
      "Memory reserved: 764.00 MB\n"
     ]
    }
   ],
   "source": [
    "if torch.cuda.is_available():\n",
    "    device = torch.device(\"cuda\")\n",
    "\n",
    "    # Allocate a tensor on the GPU\n",
    "    x = torch.randn(10000, 10000, device=device)\n",
    "\n",
    "    # Do a basic operation\n",
    "    y = x * 2\n",
    "\n",
    "    # Check memory usage\n",
    "    print(f\"Memory allocated: {torch.cuda.memory_allocated()/1024**2:.2f} MB\")\n",
    "    print(f\"Memory reserved: {torch.cuda.memory_reserved()/1024**2:.2f} MB\")\n",
    "\n",
    "    # Optional: clear memory after\n",
    "    del x, y\n",
    "    torch.cuda.empty_cache()\n",
    "else:\n",
    "    print(\"CUDA not available\")"
   ]
  }
 ],
 "metadata": {
  "kernelspec": {
   "display_name": "DEEPLABCUT_TF_2",
   "language": "python",
   "name": "python3"
  },
  "language_info": {
   "codemirror_mode": {
    "name": "ipython",
    "version": 3
   },
   "file_extension": ".py",
   "mimetype": "text/x-python",
   "name": "python",
   "nbconvert_exporter": "python",
   "pygments_lexer": "ipython3",
   "version": "3.8.20"
  }
 },
 "nbformat": 4,
 "nbformat_minor": 5
}
